{
 "cells": [
  {
   "cell_type": "code",
   "execution_count": 1,
   "metadata": {
    "collapsed": false
   },
   "outputs": [
    {
     "data": {
      "text/plain": [
       "'https://plot.ly/~gundam1001/4'"
      ]
     },
     "execution_count": 1,
     "metadata": {},
     "output_type": "execute_result"
    }
   ],
   "source": [
    "import plotly.plotly as py\n",
    "import plotly.graph_objs as go\n",
    "\n",
    "py.sign_in('gundam1001', 'wa9h2ohwtx')\n",
    "\n",
    "trace1 = go.Bar(\n",
    "    x=['ภาคเหนือ', 'ภาคตะวันออกเฉียงเหนือ', 'ภาคกลาง', 'ภาคตะวันออก', 'ภาคใต้ฝั่งตะวันตก', 'ภาคใต้ฝั่งตะวันออก'],\n",
    "    y=[1264, 1300, 1255, 1738, 2309, 1988],\n",
    "    name='2553'\n",
    ")\n",
    "trace2 = go.Bar(\n",
    "    x=['ภาคเหนือ', 'ภาคตะวันออกเฉียงเหนือ', 'ภาคกลาง', 'ภาคตะวันออก', 'ภาคใต้ฝั่งตะวันตก', 'ภาคใต้ฝั่งตะวันออก'],\n",
    "    y=[1783, 1662, 1375, 2037, 2889, 2530],\n",
    "    name='2554'\n",
    ")\n",
    "trace3 = go.Bar(\n",
    "    x=['ภาคเหนือ', 'ภาคตะวันออกเฉียงเหนือ', 'ภาคกลาง', 'ภาคตะวันออก', 'ภาคใต้ฝั่งตะวันตก', 'ภาคใต้ฝั่งตะวันออก'],\n",
    "    y=[1282, 1262, 1247, 1921, 2904, 2083],\n",
    "    name='2555'\n",
    ")\n",
    "trace4 = go.Bar(\n",
    "    x=['ภาคเหนือ', 'ภาคตะวันออกเฉียงเหนือ', 'ภาคกลาง', 'ภาคตะวันออก', 'ภาคใต้ฝั่งตะวันตก', 'ภาคใต้ฝั่งตะวันออก'],\n",
    "    y=[1329, 1457, 1222, 2236, 2769, 2107],\n",
    "    name='2556'\n",
    ")\n",
    "data = [trace1, trace2, trace3, trace4]\n",
    "layout = go.Layout(\n",
    "    barmode='group'\n",
    ")\n",
    "\n",
    "fig = go.Figure(data=data, layout=layout)\n",
    "py.plot(fig, filename='grouped-bar')"
   ]
  },
  {
   "cell_type": "code",
   "execution_count": null,
   "metadata": {
    "collapsed": true
   },
   "outputs": [],
   "source": []
  }
 ],
 "metadata": {
  "anaconda-cloud": {},
  "kernelspec": {
   "display_name": "Python [default]",
   "language": "python",
   "name": "python3"
  },
  "language_info": {
   "codemirror_mode": {
    "name": "ipython",
    "version": 3
   },
   "file_extension": ".py",
   "mimetype": "text/x-python",
   "name": "python",
   "nbconvert_exporter": "python",
   "pygments_lexer": "ipython3",
   "version": "3.5.2"
  }
 },
 "nbformat": 4,
 "nbformat_minor": 1
}
