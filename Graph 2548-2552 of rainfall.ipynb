{
 "cells": [
  {
   "cell_type": "code",
   "execution_count": 1,
   "metadata": {
    "collapsed": false
   },
   "outputs": [
    {
     "data": {
      "text/plain": [
       "'https://plot.ly/~gundam1001/4'"
      ]
     },
     "execution_count": 1,
     "metadata": {},
     "output_type": "execute_result"
    }
   ],
   "source": [
    "import plotly.plotly as py\n",
    "import plotly.graph_objs as go\n",
    "\n",
    "py.sign_in('gundam1001', 'wa9h2ohwtx')\n",
    "\n",
    "trace1 = go.Bar(\n",
    "    x=['ภาคเหนือ', 'ภาคตะวันออกเฉียงเหนือ', 'ภาคกลาง', 'ภาคตะวันออก', 'ภาคใต้ฝั่งตะวันตก', 'ภาคใต้ฝั่งตะวันออก'],\n",
    "    y=[1314, 1212, 1212, 1657, 1937, 1678],\n",
    "    name='2548'\n",
    ")\n",
    "trace2 = go.Bar(\n",
    "    x=['ภาคเหนือ', 'ภาคตะวันออกเฉียงเหนือ', 'ภาคกลาง', 'ภาคตะวันออก', 'ภาคใต้ฝั่งตะวันตก', 'ภาคใต้ฝั่งตะวันออก'],\n",
    "    y=[1501, 1430, 1258, 1815, 2635, 1872],\n",
    "    name='2549'\n",
    ")\n",
    "trace3 = go.Bar(\n",
    "    x=['ภาคเหนือ', 'ภาคตะวันออกเฉียงเหนือ', 'ภาคกลาง', 'ภาคตะวันออก', 'ภาคใต้ฝั่งตะวันตก', 'ภาคใต้ฝั่งตะวันออก'],\n",
    "    y=[1262, 1452, 1168, 1668, 2465, 1954],\n",
    "    name='2550'\n",
    ")\n",
    "trace4 = go.Bar(\n",
    "    x=['ภาคเหนือ', 'ภาคตะวันออกเฉียงเหนือ', 'ภาคกลาง', 'ภาคตะวันออก', 'ภาคใต้ฝั่งตะวันตก', 'ภาคใต้ฝั่งตะวันออก'],\n",
    "    y=[1360, 1518, 1278, 1937, 2216, 1932],\n",
    "    name='2551'\n",
    ")\n",
    "trace5 = go.Bar(\n",
    "    x=['ภาคเหนือ', 'ภาคตะวันออกเฉียงเหนือ', 'ภาคกลาง', 'ภาคตะวันออก', 'ภาคใต้ฝั่งตะวันตก', 'ภาคใต้ฝั่งตะวันออก'],\n",
    "    y=[1136, 1364, 1279, 1783, 2320, 1812],\n",
    "    name='2552'\n",
    ")\n",
    "data = [trace1, trace2, trace3, trace4, trace5]\n",
    "layout = go.Layout(\n",
    "    barmode='group'\n",
    ")\n",
    "\n",
    "fig = go.Figure(data=data, layout=layout)\n",
    "py.plot(fig, filename='grouped-bar')"
   ]
  },
  {
   "cell_type": "code",
   "execution_count": null,
   "metadata": {
    "collapsed": true
   },
   "outputs": [],
   "source": []
  },
  {
   "cell_type": "code",
   "execution_count": null,
   "metadata": {
    "collapsed": true
   },
   "outputs": [],
   "source": []
  },
  {
   "cell_type": "code",
   "execution_count": null,
   "metadata": {
    "collapsed": true
   },
   "outputs": [],
   "source": []
  },
  {
   "cell_type": "code",
   "execution_count": null,
   "metadata": {
    "collapsed": true
   },
   "outputs": [],
   "source": []
  }
 ],
 "metadata": {
  "anaconda-cloud": {},
  "kernelspec": {
   "display_name": "Python [default]",
   "language": "python",
   "name": "python3"
  },
  "language_info": {
   "codemirror_mode": {
    "name": "ipython",
    "version": 3
   },
   "file_extension": ".py",
   "mimetype": "text/x-python",
   "name": "python",
   "nbconvert_exporter": "python",
   "pygments_lexer": "ipython3",
   "version": "3.5.2"
  }
 },
 "nbformat": 4,
 "nbformat_minor": 1
}
